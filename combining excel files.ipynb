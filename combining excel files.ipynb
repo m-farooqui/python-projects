{
 "cells": [
  {
   "cell_type": "code",
   "execution_count": null,
   "id": "311cebc0",
   "metadata": {},
   "outputs": [],
   "source": [
    "#Import the modules\n",
    "import os\n",
    "import pandas as pd\n",
    "import numpy as np\n",
    "import warnings"
   ]
  },
  {
   "cell_type": "code",
   "execution_count": null,
   "id": "035a81c7",
   "metadata": {},
   "outputs": [],
   "source": [
    "#Using the read_excel function from pandas and assign new columns to the dataframe\n",
    "a = pd.read_excel('Input file Here', sheet_name = 'optional')"
   ]
  },
  {
   "cell_type": "code",
   "execution_count": null,
   "id": "ce6a5c58",
   "metadata": {},
   "outputs": [],
   "source": [
    "#Using the read_excel function from pandas and assign new columns to the dataframe\n",
    "b = pd.read_excel('Input file Here', sheet_name = 'optional')"
   ]
  },
  {
   "cell_type": "code",
   "execution_count": null,
   "id": "77038e96",
   "metadata": {},
   "outputs": [],
   "source": [
    "#Using the read_excel function from pandas and assign new columns to the dataframe\n",
    "c = pd.read_excel('Input file Here', sheet_name = 'optional')"
   ]
  },
  {
   "cell_type": "code",
   "execution_count": null,
   "id": "80379c23",
   "metadata": {},
   "outputs": [],
   "source": [
    "#Using the read_excel function from pandas and assign new columns to the dataframe\n",
    "d = pd.read_excel('Input file Here', sheet_name = 'optional')"
   ]
  },
  {
   "cell_type": "code",
   "execution_count": null,
   "id": "dd9a9d2c",
   "metadata": {},
   "outputs": [],
   "source": [
    "#Using the concat function from pandas to concatenate the dataframes\n",
    "combined_df = pd.concat([a,b,c,d])"
   ]
  },
  {
   "cell_type": "code",
   "execution_count": null,
   "id": "f24283c2",
   "metadata": {},
   "outputs": [],
   "source": [
    "#If the columns contain any ids that need to be chnaged from string values to numeric\n",
    "combined_df[np.isfinite(pd.to_numeric(combined_df['Column name'], errors = \"coerce\"))]"
   ]
  },
  {
   "cell_type": "code",
   "execution_count": null,
   "id": "e5f9a9d0",
   "metadata": {},
   "outputs": [],
   "source": [
    "#A function which detects if datatype of a dataframe is string or not\n",
    "def get_string(x):\n",
    "    userdata = x.all()\n",
    "    if userdata == object or 'string':\n",
    "        print(\"This is a string\")\n",
    "    else:\n",
    "        print(\"I need an string to continue.\")"
   ]
  },
  {
   "cell_type": "code",
   "execution_count": null,
   "id": "8cf639ec",
   "metadata": {},
   "outputs": [],
   "source": [
    "#A function which detects if datatype of a dataframe is integer or not\n",
    "def get_integer(x):\n",
    "    userdata = x.all()\n",
    "    if userdata == 'int64' or int:\n",
    "        print(\"This is a integer\")\n",
    "    else:\n",
    "        print(\"I need an integer to continue.\")"
   ]
  },
  {
   "cell_type": "code",
   "execution_count": null,
   "id": "7ce9db55",
   "metadata": {},
   "outputs": [],
   "source": [
    "#Apply the function of the columns of the dataframe\n",
    "get_string(combined_df['column name'])\n",
    "get_integer(combined_df['column name'])"
   ]
  },
  {
   "cell_type": "code",
   "execution_count": null,
   "id": "5d09786c",
   "metadata": {},
   "outputs": [],
   "source": [
    "#Changing the datatype of some of the columns\n",
    "combined_df['column name'].astype('object')"
   ]
  },
  {
   "cell_type": "code",
   "execution_count": null,
   "id": "320bc972",
   "metadata": {},
   "outputs": [],
   "source": [
    "#A function to trim all spaces from the dataframe\n",
    "def trim_all_columns(df):\n",
    "    \"\"\"\n",
    "    Trim whitespace from ends of each value across all series in dataframe\n",
    "    \n",
    "    \"\"\"\n",
    "    trim_strings = lambda x: x.strip() if isinstance(x, str) else x\n",
    "    return df.applymap(trim_strings)"
   ]
  },
  {
   "cell_type": "code",
   "execution_count": null,
   "id": "8ce3cbae",
   "metadata": {},
   "outputs": [],
   "source": [
    "#Apply the trim function on the dataframe\n",
    "trim_all_columns(combined_df)"
   ]
  },
  {
   "cell_type": "code",
   "execution_count": null,
   "id": "aa745a1f",
   "metadata": {},
   "outputs": [],
   "source": [
    "#Choosing some of the columns from this dataframe to create a new excel file\n",
    "combined_df1['Column name'] = combined_df['Column name']\n",
    "combined_df1['Column name'] = combined_df['Column name']\n",
    "combined_df1['Column name'] = combined_df['Column name']\n",
    "combined_df1.to_excel('File.xlsx', index = False)"
   ]
  }
 ],
 "metadata": {
  "kernelspec": {
   "display_name": "Python 3 (ipykernel)",
   "language": "python",
   "name": "python3"
  },
  "language_info": {
   "codemirror_mode": {
    "name": "ipython",
    "version": 3
   },
   "file_extension": ".py",
   "mimetype": "text/x-python",
   "name": "python",
   "nbconvert_exporter": "python",
   "pygments_lexer": "ipython3",
   "version": "3.9.7"
  }
 },
 "nbformat": 4,
 "nbformat_minor": 5
}
