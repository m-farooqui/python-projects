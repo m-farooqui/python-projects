{
 "cells": [
  {
   "cell_type": "code",
   "execution_count": 1,
   "id": "793498f0",
   "metadata": {},
   "outputs": [
    {
     "name": "stdout",
     "output_type": "stream",
     "text": [
      "ErrorType : abort, Error : socket error: EOF\n",
      "Connection Object : None\n",
      "Total Time Taken  : 10.11 Seconds\n",
      "\n",
      "ErrorType : timeout, Error : timed out\n",
      "Connection Object : None\n",
      "Total Time Taken  : 3.05 Seconds\n",
      "\n",
      "Connection Object : <imaplib.IMAP4_SSL object at 0x00000287862C0310>\n",
      "Total Time Taken  : 0.17 Seconds\n"
     ]
    }
   ],
   "source": [
    "#import modules\n",
    "import polars as pl\n",
    "from sqlalchemy import create_engine\n",
    "import urllib\n",
    "import pandas as pd\n",
    "import pyodbc\n",
    "#path where the file is located\n",
    "path = 'path of the file'\n",
    "#Read the excel file thru polars convert it to pandas dataframe\n",
    "df = pl.read_excel(file)\n",
    "df = df.to_pandas()\n",
    "#See the columns datatypes\n",
    "df.dtypes\n",
    "#If for example column needs to change to datetime use this function \n",
    "df['Columnname'] = df['Columnname'].apply(pd.to_datetime)\n",
    "#If not datetime then change according to the schema of the table\n",
    "def sqlcol(dfparam):\n",
    "    dtypedict = {}\n",
    "    for i,j in zip(dfparam.columns, dfparam.dtypes):\n",
    "        if \"object\" in str(j):\n",
    "            dtypedict.update({i: sqlalchemy.types.NVARCHAR(length=255)})\n",
    "        if \"float\" in str(j):\n",
    "            dtypedict.update({i: sqlalchemy.types.Float(precision=3, asdecimal = True)})\n",
    "        if \"int\" in str(j):\n",
    "            dtypedict.update({i: sqlalchemy.types.INT()})\n",
    "            \n",
    "   return dtypedict\n",
    "outputdict = sqlcol(df)\n",
    "#Send the file to sql\n",
    "quoted = urllib.parse.quote_plus('Driver={Database Driver}; Server = 'ServerName'; Port = 'Port Number'; uid='UserID'; pwd = 'password'; DATABASE = 'Database name'; Trusted_Connnection=No;')\n",
    "engine = create_engine('database+pyodbc:///?odbc_connect={}'.format(quoted),fast_excutemany = True)\n",
    "Table_name = 'Tablename'\n",
    "schema = 'Schemaname'\n",
    "df.to_sql(Tablename, schema = 'Schemaname', if_exists = 'replace', index = False)"
   ]
  }
 ],
 "metadata": {
  "kernelspec": {
   "display_name": "Python 3 (ipykernel)",
   "language": "python",
   "name": "python3"
  },
  "language_info": {
   "codemirror_mode": {
    "name": "ipython",
    "version": 3
   },
   "file_extension": ".py",
   "mimetype": "text/x-python",
   "name": "python",
   "nbconvert_exporter": "python",
   "pygments_lexer": "ipython3",
   "version": "3.9.7"
  }
 },
 "nbformat": 4,
 "nbformat_minor": 5
}
