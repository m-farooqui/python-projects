{
 "cells": [
  {
   "cell_type": "code",
   "execution_count": null,
   "id": "5fc2aeaa",
   "metadata": {},
   "outputs": [
    {
     "name": "stdout",
     "output_type": "stream",
     "text": [
      " * Serving Flask app \"__main__\" (lazy loading)\n",
      " * Environment: production\n",
      "\u001b[31m   WARNING: This is a development server. Do not use it in a production deployment.\u001b[0m\n",
      "\u001b[2m   Use a production WSGI server instead.\u001b[0m\n",
      " * Debug mode: off\n"
     ]
    },
    {
     "name": "stderr",
     "output_type": "stream",
     "text": [
      " * Running on http://127.0.0.1:5000/ (Press CTRL+C to quit)\n",
      "127.0.0.1 - - [16/Oct/2022 00:12:10] \"GET / HTTP/1.1\" 200 -\n",
      "127.0.0.1 - - [16/Oct/2022 00:12:10] \"GET /favicon.ico HTTP/1.1\" 404 -\n"
     ]
    }
   ],
   "source": [
    "#import the modules\n",
    "from apscheduler.triggers.combining import OrTrigger\n",
    "from apscheduler.schedulers.background import BackgroundScheduler\n",
    "from apscheduler.triggers.cron import CronTrigger\n",
    "import polars as pl\n",
    "from sqlalchemy import create_engine\n",
    "import urllib\n",
    "import pandas as pd\n",
    "import pyodbc\n",
    "#a function that reads a excel file thru polars, convert it to pandas give all information about the database, establish a connection and send the file to database \n",
    "def foo():\n",
    "    df = pl.read_excel(file)\n",
    "    df1 = df.to_pandas()\n",
    "    Table_name = 'Tablename'\n",
    "    schema = 'Schemaname'\n",
    "    quoted = urllib.parse.quote_plus('Driver={Database Driver}; Server = 'ServerName'; Port = 'Port Number'; uid='UserID'; pwd = 'password'; DATABASE = 'Database name'; Trusted_Connnection=No;')\n",
    "    engine = create_engine('database+pyodbc:///?odbc_connect={}'.format(quoted),fast_excutemany = True)\n",
    "    df1.to_sql(name, schema = 'schemaname', if_exists = 'replace', index = False)\n",
    "\n",
    "#Trigger a job at the specified time and give the name of the function which needs to be triggered \n",
    "trigger = OrTrigger([\n",
    "   CronTrigger(hour = '18', minutes = '06'),\n",
    "])\n",
    "\n",
    "sched.add_job(foo, trigger)\n",
    "sched.start()"
   ]
  },
  {
   "cell_type": "code",
   "execution_count": null,
   "id": "041504d9",
   "metadata": {},
   "outputs": [],
   "source": []
  }
 ],
 "metadata": {
  "kernelspec": {
   "display_name": "Python 3 (ipykernel)",
   "language": "python",
   "name": "python3"
  },
  "language_info": {
   "codemirror_mode": {
    "name": "ipython",
    "version": 3
   },
   "file_extension": ".py",
   "mimetype": "text/x-python",
   "name": "python",
   "nbconvert_exporter": "python",
   "pygments_lexer": "ipython3",
   "version": "3.9.7"
  }
 },
 "nbformat": 4,
 "nbformat_minor": 5
}
