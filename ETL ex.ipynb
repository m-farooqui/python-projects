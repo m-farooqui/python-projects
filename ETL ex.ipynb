{
 "cells": [
  {
   "cell_type": "code",
   "execution_count": 1,
   "id": "aa100299",
   "metadata": {},
   "outputs": [],
   "source": [
    "import glob \n",
    "import pandas as pd \n",
    "import xml.etree.ElementTree as ET \n",
    "from datetime import datetime"
   ]
  },
  {
   "cell_type": "code",
   "execution_count": 3,
   "id": "c06f941c",
   "metadata": {},
   "outputs": [
    {
     "data": {
      "text/plain": [
       "'!wget https://cf-courses-data.s3.us.cloud-object-storage.appdomain.cloud/IBMDeveloperSkillsNetwork-PY0221EN-SkillsNetwork/labs/module%206/Lab%20-%20Extract%20Transform%20Load/data/datasource.zip'"
      ]
     },
     "execution_count": 3,
     "metadata": {},
     "output_type": "execute_result"
    }
   ],
   "source": [
    "'!wget https://cf-courses-data.s3.us.cloud-object-storage.appdomain.cloud/IBMDeveloperSkillsNetwork-PY0221EN-SkillsNetwork/labs/module%206/Lab%20-%20Extract%20Transform%20Load/data/datasource.zip'"
   ]
  },
  {
   "cell_type": "code",
   "execution_count": null,
   "id": "a99e541d",
   "metadata": {},
   "outputs": [],
   "source": [
    "nzip datasource.zip -d dealership_data"
   ]
  },
  {
   "cell_type": "code",
   "execution_count": null,
   "id": "ac93cf80",
   "metadata": {},
   "outputs": [],
   "source": [
    "tmpfile    = \"dealership_temp.tmp\"               # store all extracted data\n",
    "\n",
    "logfile    = \"dealership_logfile.txt\"            # all event logs will be stored\n",
    "\n",
    "targetfile = \"dealership_transformed_data.csv\"   # transformed data is stored"
   ]
  },
  {
   "cell_type": "code",
   "execution_count": null,
   "id": "5526cf02",
   "metadata": {},
   "outputs": [],
   "source": [
    "def extract_from_csv(file_to_process): \n",
    "    dataframe = pd.read_csv(file_to_process) \n",
    "    return dataframe"
   ]
  },
  {
   "cell_type": "code",
   "execution_count": null,
   "id": "fef7dee9",
   "metadata": {},
   "outputs": [],
   "source": [
    "def extract_from_json(file_to_process):\n",
    "    dataframe = pd.read_json(file_to_process,lines=True)\n",
    "    return dataframe"
   ]
  },
  {
   "cell_type": "code",
   "execution_count": null,
   "id": "33d2269a",
   "metadata": {},
   "outputs": [],
   "source": [
    "def extract_from_xml(file_to_process):\n",
    "\n",
    "    dataframe = pd.DataFrame(columns=['car_model','year_of_manufacture','price', 'fuel'])\n",
    "\n",
    "    tree = ET.parse(file_to_process) \n",
    "\n",
    "    root = tree.getroot() \n",
    "\n",
    "    for person in root: \n",
    "\n",
    "        car_model = person.find(\"car_model\").text \n",
    "\n",
    "        year_of_manufacture = int(person.find(\"year_of_manufacture\").text)\n",
    "\n",
    "        price = float(person.find(\"price\").text) \n",
    "\n",
    "        fuel = person.find(\"fuel\").text \n",
    "\n",
    "        dataframe = dataframe.append({\"car_model\":car_model, \"year_of_manufacture\":year_of_manufacture, \"price\":price, \"fuel\":fuel}, ignore_index=True) \n",
    "\n",
    "        return dataframe"
   ]
  },
  {
   "cell_type": "code",
   "execution_count": null,
   "id": "bb398d33",
   "metadata": {},
   "outputs": [],
   "source": [
    "def extract():\n",
    "       extracted_data = pd.DataFrame(columns=['car_model','year_of_manufacture','price', 'fuel']) \n",
    "    #for csv files\n",
    "      for csvfile in glob.glob(\"dealership_data/*.csv\"):\n",
    "          extracted_data = extracted_data.append(extract_from_csv(csvfile), ignore_index=True)\n",
    "    #for json files\n",
    "      for jsonfile in glob.glob(\"dealership_data/*.json\"):\n",
    "          extracted_data = extracted_data.append(extract_from_json(jsonfile), ignore_index=True)\n",
    "    #for xml files\n",
    "      for xmlfile in glob.glob(\"dealership_data/*.xml\"):\n",
    "          extracted_data = extracted_data.append(extract_from_xml(xmlfile), ignore_index=True)\n",
    "      return extracted_data"
   ]
  },
  {
   "cell_type": "code",
   "execution_count": null,
   "id": "614c0a7a",
   "metadata": {},
   "outputs": [],
   "source": [
    "def transform(data):\n",
    "       data['price'] = round(data.price, 2)\n",
    "       return data"
   ]
  },
  {
   "cell_type": "code",
   "execution_count": null,
   "id": "2f7a414a",
   "metadata": {},
   "outputs": [],
   "source": [
    "def load(targetfile,data_to_load):\n",
    "    data_to_load.to_csv(targetfile)"
   ]
  },
  {
   "cell_type": "code",
   "execution_count": null,
   "id": "c92117ac",
   "metadata": {},
   "outputs": [],
   "source": [
    "def log(message):\n",
    "    timestamp_format = '%H:%M:%S-%h-%d-%Y'\n",
    "    #Hour-Minute-Second-MonthName-Day-Year\n",
    "    now = datetime.now() # get current timestamp\n",
    "    timestamp = now.strftime(timestamp_format)\n",
    "    with open(\"dealership_logfile.txt\",\"a\") as f: f.write(timestamp + ',' + message + 'n')"
   ]
  },
  {
   "cell_type": "code",
   "execution_count": null,
   "id": "0ec1bd63",
   "metadata": {},
   "outputs": [],
   "source": [
    "log(\"ETL Job Started\")"
   ]
  },
  {
   "cell_type": "code",
   "execution_count": null,
   "id": "7cdc2c3f",
   "metadata": {},
   "outputs": [],
   "source": [
    "log(\"Extract phase Started\")\n",
    "extracted_data = extract() \n",
    "log(\"Extract phase Ended\")"
   ]
  },
  {
   "cell_type": "code",
   "execution_count": null,
   "id": "8e316fd2",
   "metadata": {},
   "outputs": [],
   "source": [
    "log(“Transform phase Started”)\n",
    "transformed_data = transform(extracted_data)\n",
    "log(\"Transform phase Ended\")"
   ]
  },
  {
   "cell_type": "code",
   "execution_count": null,
   "id": "1e4afdd1",
   "metadata": {},
   "outputs": [],
   "source": [
    "log(\"Load phase Started\")\n",
    "load(targetfile,transformed_data)\n",
    "log(\"Load phase Ended\")"
   ]
  },
  {
   "cell_type": "code",
   "execution_count": null,
   "id": "6f89d8af",
   "metadata": {},
   "outputs": [],
   "source": [
    "log(\"ETL Job Ended\")"
   ]
  }
 ],
 "metadata": {
  "kernelspec": {
   "display_name": "Python 3 (ipykernel)",
   "language": "python",
   "name": "python3"
  },
  "language_info": {
   "codemirror_mode": {
    "name": "ipython",
    "version": 3
   },
   "file_extension": ".py",
   "mimetype": "text/x-python",
   "name": "python",
   "nbconvert_exporter": "python",
   "pygments_lexer": "ipython3",
   "version": "3.9.7"
  }
 },
 "nbformat": 4,
 "nbformat_minor": 5
}
