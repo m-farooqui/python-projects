{
 "cells": [
  {
   "cell_type": "code",
   "execution_count": null,
   "id": "fe1f7e12",
   "metadata": {},
   "outputs": [],
   "source": [
    " #Import the modules\n",
    "import pandas as pd\n",
    "import urllib\n",
    "import pyodbc\n",
    "import numpy as np\n",
    "import shutil\n",
    "import os"
   ]
  },
  {
   "cell_type": "code",
   "execution_count": null,
   "id": "d9698871",
   "metadata": {},
   "outputs": [],
   "source": [
    "#Use the shutil module to move the files\n",
    "original = r'Input File Here'\n",
    "target = r'Output Destination'\n",
    "\n",
    "shutil.move(original, target)"
   ]
  },
  {
   "cell_type": "code",
   "execution_count": null,
   "id": "f9e02b2f",
   "metadata": {},
   "outputs": [],
   "source": [
    "#A function to trim all spaces from the dataframe\n",
    "def trim_all_columns(df):\n",
    "    trim_strings = lambda x: x.strip() if ininstance(x, str) else x\n",
    "    return df.applymap(trim_strings)"
   ]
  },
  {
   "cell_type": "code",
   "execution_count": null,
   "id": "7741d21f",
   "metadata": {},
   "outputs": [],
   "source": [
    "#Using the above trim function to trim white space from the df and then establish a sql connection and then send the files to sql.\n",
    "\n",
    "path = 'File path where the file is located'\n",
    "sheet = 'Use only if the file is xlsx or csv'\n",
    "name = 'Name of the sql table where the file is going'\n",
    "file = pd.red_excel('Name of the sql file' + path + '.xlsx', sheet_name = sheet, dtype = str)\n",
    "schema = 'mcd'\n",
    "trim_all_columns(file)\n",
    "print(len((file)))\n",
    "quoted = urllib.parse.quote_plus('Driver={Driver Name for the server}; Server=Server Name; Port= Port number for conn; uid = username; pwd = password; DATABASE = DB NAME; Trusted_Connection = if conn is truted or not;)\n",
    "engine = create_engine('sql connection information'.format(quoted), fast_executemany = True) \n",
    "file.to_sql('name of table', schema = schema, con=engine, if_exists='replace', index = False)\n",
    "print(\"Done \", path)                                 "
   ]
  },
  {
   "cell_type": "code",
   "execution_count": null,
   "id": "5ca22ce8",
   "metadata": {},
   "outputs": [],
   "source": [
    "#Connect to SQL server put in username and password\n",
    "conn = pyodbc.connect('Driver={Driver Name for the server}; Server=Server Name; Port= Port number for conn; uid = username; pwd = password; DATABASE = DB NAME; Trusted_Connection = if conn is truted or not;')"
   ]
  },
  {
   "cell_type": "code",
   "execution_count": null,
   "id": "6f4d02c7",
   "metadata": {},
   "outputs": [],
   "source": [
    "#Create a cursor to execute the query\n",
    "cursor = conn.cursor()"
   ]
  },
  {
   "cell_type": "code",
   "execution_count": null,
   "id": "447fa9cd",
   "metadata": {},
   "outputs": [],
   "source": [
    "#Store the stored procedure in a variable\n",
    "execute_store_procedure = ('EXEC [NAME OF STORE PROCEDURE]')"
   ]
  },
  {
   "cell_type": "code",
   "execution_count": null,
   "id": "d6a09ead",
   "metadata": {},
   "outputs": [],
   "source": [
    "#Using the cursor to execute the query and close the connection\n",
    "cursor.execute(execute_store_procedure)\n",
    "conn.commit()"
   ]
  },
  {
   "cell_type": "code",
   "execution_count": null,
   "id": "52224307",
   "metadata": {},
   "outputs": [],
   "source": [
    "#After running the store procedure. Set sql table names to a variable, and then using pandas read_sql function read the table and store it in a variable\n",
    "Table1 = \"\"\"SELECT * FROM TableName\"\"\"\n",
    "Table2 = \"\"\"SELECT * FROM TableName\"\"\"\n",
    "load_Table = pd.read_sql(Table1,conn)\n",
    "load_Table1 = pd.read_sql(Table2,conn)"
   ]
  },
  {
   "cell_type": "code",
   "execution_count": null,
   "id": "f1240b12",
   "metadata": {},
   "outputs": [],
   "source": [
    "#Converting the loaded files into an excel format\n",
    "load_Table.to_excel('File.xlsx', index = False)\n",
    "load_Table1.to_excel('File1.xlsx', index = False)"
   ]
  }
 ],
 "metadata": {
  "kernelspec": {
   "display_name": "Python 3 (ipykernel)",
   "language": "python",
   "name": "python3"
  },
  "language_info": {
   "codemirror_mode": {
    "name": "ipython",
    "version": 3
   },
   "file_extension": ".py",
   "mimetype": "text/x-python",
   "name": "python",
   "nbconvert_exporter": "python",
   "pygments_lexer": "ipython3",
   "version": "3.9.7"
  }
 },
 "nbformat": 4,
 "nbformat_minor": 5
}
