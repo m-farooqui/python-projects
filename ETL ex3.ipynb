{
 "cells": [
  {
   "cell_type": "code",
   "execution_count": 1,
   "id": "8f9ddbf2",
   "metadata": {},
   "outputs": [],
   "source": [
    "import requests\n",
    "import pandas as pd\n",
    "from sqlalchemy import create_engine"
   ]
  },
  {
   "cell_type": "code",
   "execution_count": 2,
   "id": "2205ef5c",
   "metadata": {},
   "outputs": [],
   "source": [
    "def extract()-> dict:\n",
    "    \"\"\" This API extracts data from\n",
    "    http://universities.hipolabs.com\n",
    "    \"\"\"\n",
    "    API_URL = \"http://universities.hipolabs.com/search?country=United+States\"\n",
    "    data = requests.get(API_URL).json()\n",
    "    return data"
   ]
  },
  {
   "cell_type": "code",
   "execution_count": 3,
   "id": "b1bbf068",
   "metadata": {},
   "outputs": [],
   "source": [
    "def transform(data:dict) -> pd.DataFrame:\n",
    "    \"\"\" Transforms the dataset into desired structure and filters\"\"\"\n",
    "    df = pd.DataFrame(data)\n",
    "    print(f\"Total Number of universities from API {len(data)}\")\n",
    "    df = df[df[\"name\"].str.contains(\"California\")]\n",
    "    print(f\"Number of universities in california {len(df)}\")\n",
    "    df['domains'] = [','.join(map(str, l)) for l in df['domains']]\n",
    "    df['web_pages'] = [','.join(map(str, l)) for l in df['web_pages']]\n",
    "    df = df.reset_index(drop=True)\n",
    "    return df[[\"domains\",\"country\",\"web_pages\",\"name\"]]"
   ]
  },
  {
   "cell_type": "code",
   "execution_count": 4,
   "id": "cf1619f7",
   "metadata": {},
   "outputs": [],
   "source": [
    "def load(df:pd.DataFrame)-> None:\n",
    "    \"\"\" Loads data into a sqllite database\"\"\"\n",
    "    disk_engine = create_engine('sqlite:///my_lite_store.db')\n",
    "    df.to_sql('cal_uni', disk_engine, if_exists='replace')"
   ]
  },
  {
   "cell_type": "code",
   "execution_count": 5,
   "id": "cdc927b7",
   "metadata": {},
   "outputs": [
    {
     "name": "stdout",
     "output_type": "stream",
     "text": [
      "Total Number of universities from API 4566\n",
      "Number of universities in california 84\n"
     ]
    }
   ],
   "source": [
    "data = extract()\n",
    "df = transform(data)\n",
    "load(df)"
   ]
  },
  {
   "cell_type": "code",
   "execution_count": null,
   "id": "ff726595",
   "metadata": {},
   "outputs": [],
   "source": []
  }
 ],
 "metadata": {
  "kernelspec": {
   "display_name": "Python 3 (ipykernel)",
   "language": "python",
   "name": "python3"
  },
  "language_info": {
   "codemirror_mode": {
    "name": "ipython",
    "version": 3
   },
   "file_extension": ".py",
   "mimetype": "text/x-python",
   "name": "python",
   "nbconvert_exporter": "python",
   "pygments_lexer": "ipython3",
   "version": "3.9.7"
  }
 },
 "nbformat": 4,
 "nbformat_minor": 5
}
