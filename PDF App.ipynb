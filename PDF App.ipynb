{
 "cells": [
  {
   "cell_type": "code",
   "execution_count": null,
   "id": "edca649a",
   "metadata": {},
   "outputs": [],
   "source": [
    "#import the modules\n",
    "from tkinter import *\n",
    "from PIL import ImageTk, Image\n",
    "from tkinter import filedialog\n",
    "import os\n",
    "import PyPDF2 as pdy\n",
    "from pathlib import Path\n",
    "import glob\n",
    "import pandas as pd\n",
    "import shutil"
   ]
  },
  {
   "cell_type": "code",
   "execution_count": null,
   "id": "a790f60c",
   "metadata": {},
   "outputs": [],
   "source": [
    "##Create a title and dimension for App\n",
    "ws = Tk()\n",
    "ws.title(\"PDF Reader\")\n",
    "ws.geometry(\"550x300+300+150\")\n",
    "ws.resizable(width=True, height = True)"
   ]
  },
  {
   "cell_type": "code",
   "execution_count": null,
   "id": "670aa3ec",
   "metadata": {},
   "outputs": [],
   "source": [
    "#Create a function that read the name and pages of the PDF File and prints it ou to a excel file\n",
    "def pdf_reader():\n",
    "    my_list=[]\n",
    "    total_pages=0\n",
    "    mydir = Path(\"Path of the directory where the pdf files are located\")\n",
    "    for file in mydir.glob('.pdf'):\n",
    "        reader = pdy.PdfFileReader(file)\n",
    "        pageObj = reader.getPage(0)\n",
    "        no_of_pages = reader.getNumPages()\n",
    "        total_pages +=no_of_pages\n",
    "        my_list.append((file.name,no_of_pages))\n",
    "        excel = pd.DataFrame(my_list, columns = (\"File\",\"NoofPages\"))\n",
    "        excel.to_excel(\"File.xlsx\", sheet_name = \"Total Count\", index= False)\n",
    "def Move():\n",
    "    for f in glob.glob('Input Path to the File Directory Here/*.pdf'):\n",
    "        if no_of_pages >1 and no_of_pages <20:\n",
    "            shutil.move(f, \"Path where file needs to go\")\n",
    "        elif no_of_pages >50 and no_of_pages <100:\n",
    "            shutil.move(f, \"Path where file needs to go\")\n",
    "        elif no_of_pages >101 and no_of_pages <200:\n",
    "            shutil.move(f, \"Path where file needs to go\")\n",
    "            \n",
    "def quit_app():\n",
    "    ws.destroy()"
   ]
  },
  {
   "cell_type": "code",
   "execution_count": null,
   "id": "5398d79b",
   "metadata": {},
   "outputs": [],
   "source": [
    "button = Button(ws, text='PDFtoExcel', command = pdf_reader).pack()\n",
    "button = Button(ws, text='Move', command = Move).pack()\n",
    "button = Button(ws, text='Quit', command = quit_app).pack()\n",
    "ws.mainloop()"
   ]
  }
 ],
 "metadata": {
  "kernelspec": {
   "display_name": "Python 3 (ipykernel)",
   "language": "python",
   "name": "python3"
  },
  "language_info": {
   "codemirror_mode": {
    "name": "ipython",
    "version": 3
   },
   "file_extension": ".py",
   "mimetype": "text/x-python",
   "name": "python",
   "nbconvert_exporter": "python",
   "pygments_lexer": "ipython3",
   "version": "3.9.7"
  }
 },
 "nbformat": 4,
 "nbformat_minor": 5
}
